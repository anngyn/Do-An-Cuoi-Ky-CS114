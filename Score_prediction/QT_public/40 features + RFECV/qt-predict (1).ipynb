{
 "cells": [
  {
   "cell_type": "markdown",
   "id": "5557dcb4",
   "metadata": {
    "papermill": {
     "duration": 0.005259,
     "end_time": "2025-06-29T17:18:20.926757",
     "exception": false,
     "start_time": "2025-06-29T17:18:20.921498",
     "status": "completed"
    },
    "tags": []
   },
   "source": [
    "# **Tải data**"
   ]
  },
  {
   "cell_type": "code",
   "execution_count": 1,
   "id": "0a266fcd",
   "metadata": {
    "execution": {
     "iopub.execute_input": "2025-06-29T17:18:20.936963Z",
     "iopub.status.busy": "2025-06-29T17:18:20.936321Z",
     "iopub.status.idle": "2025-06-29T17:18:25.028111Z",
     "shell.execute_reply": "2025-06-29T17:18:25.027424Z"
    },
    "papermill": {
     "duration": 4.097896,
     "end_time": "2025-06-29T17:18:25.029277",
     "exception": false,
     "start_time": "2025-06-29T17:18:20.931381",
     "status": "completed"
    },
    "tags": []
   },
   "outputs": [
    {
     "name": "stdout",
     "output_type": "stream",
     "text": [
      "Tải thành công df_submissions: (295198, 25)\n",
      "Tải thành công df_target: (761, 2)\n",
      "Các cột của data: Index(['assignment_id_raw', 'problem_id_raw', 'username_raw', 'is_final',\n",
      "       'status', 'pre_score', 'coefficient', 'language_id_raw', 'created_at',\n",
      "       'updated_at', 'judgement', 'student_id', 'language_id', 'avg_time_ms',\n",
      "       'avg_memory_kb', 'num_failed_overall_tc', 'num_accepted_tc',\n",
      "       'total_verdicts_tc', 'num_tc_from_array', 'num_wrong_tc', 'num_tle_tc',\n",
      "       'num_mle_tc', 'num_rte_tc', 'num_ce_tc', 'is_compile_error'],\n",
      "      dtype='object')\n"
     ]
    },
    {
     "data": {
      "text/html": [
       "<div>\n",
       "<style scoped>\n",
       "    .dataframe tbody tr th:only-of-type {\n",
       "        vertical-align: middle;\n",
       "    }\n",
       "\n",
       "    .dataframe tbody tr th {\n",
       "        vertical-align: top;\n",
       "    }\n",
       "\n",
       "    .dataframe thead th {\n",
       "        text-align: right;\n",
       "    }\n",
       "</style>\n",
       "<table border=\"1\" class=\"dataframe\">\n",
       "  <thead>\n",
       "    <tr style=\"text-align: right;\">\n",
       "      <th></th>\n",
       "      <th>assignment_id_raw</th>\n",
       "      <th>problem_id_raw</th>\n",
       "      <th>username_raw</th>\n",
       "      <th>is_final</th>\n",
       "      <th>status</th>\n",
       "      <th>pre_score</th>\n",
       "      <th>coefficient</th>\n",
       "      <th>language_id_raw</th>\n",
       "      <th>created_at</th>\n",
       "      <th>updated_at</th>\n",
       "      <th>...</th>\n",
       "      <th>num_failed_overall_tc</th>\n",
       "      <th>num_accepted_tc</th>\n",
       "      <th>total_verdicts_tc</th>\n",
       "      <th>num_tc_from_array</th>\n",
       "      <th>num_wrong_tc</th>\n",
       "      <th>num_tle_tc</th>\n",
       "      <th>num_mle_tc</th>\n",
       "      <th>num_rte_tc</th>\n",
       "      <th>num_ce_tc</th>\n",
       "      <th>is_compile_error</th>\n",
       "    </tr>\n",
       "  </thead>\n",
       "  <tbody>\n",
       "    <tr>\n",
       "      <th>0</th>\n",
       "      <td>90ce27571176d87961b565d5ef4b3de33ede04ac</td>\n",
       "      <td>789454427dd4097a14749e3dde63346b7a8d3811</td>\n",
       "      <td>ed9eaeb6a707f50154024b24d7efcb874a9795dd</td>\n",
       "      <td>0</td>\n",
       "      <td>SCORE</td>\n",
       "      <td>0</td>\n",
       "      <td>100</td>\n",
       "      <td>it0012</td>\n",
       "      <td>2025-09-10 08:02:04</td>\n",
       "      <td>2025-09-10 08:06:58</td>\n",
       "      <td>...</td>\n",
       "      <td>10.0</td>\n",
       "      <td>0.0</td>\n",
       "      <td>10.0</td>\n",
       "      <td>10.0</td>\n",
       "      <td>10.0</td>\n",
       "      <td>0.0</td>\n",
       "      <td>0.0</td>\n",
       "      <td>0.0</td>\n",
       "      <td>0.0</td>\n",
       "      <td>False</td>\n",
       "    </tr>\n",
       "    <tr>\n",
       "      <th>1</th>\n",
       "      <td>90ce27571176d87961b565d5ef4b3de33ede04ac</td>\n",
       "      <td>789454427dd4097a14749e3dde63346b7a8d3811</td>\n",
       "      <td>ed9eaeb6a707f50154024b24d7efcb874a9795dd</td>\n",
       "      <td>0</td>\n",
       "      <td>SCORE</td>\n",
       "      <td>0</td>\n",
       "      <td>100</td>\n",
       "      <td>it0012</td>\n",
       "      <td>2025-09-10 08:04:41</td>\n",
       "      <td>2025-09-10 08:04:51</td>\n",
       "      <td>...</td>\n",
       "      <td>10.0</td>\n",
       "      <td>0.0</td>\n",
       "      <td>10.0</td>\n",
       "      <td>10.0</td>\n",
       "      <td>10.0</td>\n",
       "      <td>0.0</td>\n",
       "      <td>0.0</td>\n",
       "      <td>0.0</td>\n",
       "      <td>0.0</td>\n",
       "      <td>False</td>\n",
       "    </tr>\n",
       "    <tr>\n",
       "      <th>2</th>\n",
       "      <td>90ce27571176d87961b565d5ef4b3de33ede04ac</td>\n",
       "      <td>789454427dd4097a14749e3dde63346b7a8d3811</td>\n",
       "      <td>ed9eaeb6a707f50154024b24d7efcb874a9795dd</td>\n",
       "      <td>1</td>\n",
       "      <td>SCORE</td>\n",
       "      <td>10000</td>\n",
       "      <td>100</td>\n",
       "      <td>it0012</td>\n",
       "      <td>2025-09-10 08:06:49</td>\n",
       "      <td>2025-09-10 08:06:58</td>\n",
       "      <td>...</td>\n",
       "      <td>0.0</td>\n",
       "      <td>0.0</td>\n",
       "      <td>0.0</td>\n",
       "      <td>10.0</td>\n",
       "      <td>0.0</td>\n",
       "      <td>0.0</td>\n",
       "      <td>0.0</td>\n",
       "      <td>0.0</td>\n",
       "      <td>0.0</td>\n",
       "      <td>False</td>\n",
       "    </tr>\n",
       "    <tr>\n",
       "      <th>3</th>\n",
       "      <td>90ce27571176d87961b565d5ef4b3de33ede04ac</td>\n",
       "      <td>bf96fbdc5f499538c3e2bfbec5779c8a14b0a9ff</td>\n",
       "      <td>ed9eaeb6a707f50154024b24d7efcb874a9795dd</td>\n",
       "      <td>1</td>\n",
       "      <td>SCORE</td>\n",
       "      <td>10000</td>\n",
       "      <td>100</td>\n",
       "      <td>it0012</td>\n",
       "      <td>2025-09-10 08:47:52</td>\n",
       "      <td>2025-09-10 08:48:01</td>\n",
       "      <td>...</td>\n",
       "      <td>0.0</td>\n",
       "      <td>0.0</td>\n",
       "      <td>0.0</td>\n",
       "      <td>10.0</td>\n",
       "      <td>0.0</td>\n",
       "      <td>0.0</td>\n",
       "      <td>0.0</td>\n",
       "      <td>0.0</td>\n",
       "      <td>0.0</td>\n",
       "      <td>False</td>\n",
       "    </tr>\n",
       "    <tr>\n",
       "      <th>4</th>\n",
       "      <td>90ce27571176d87961b565d5ef4b3de33ede04ac</td>\n",
       "      <td>7a6e5ca470ff47c3b5048f240c4738de71010c78</td>\n",
       "      <td>ed9eaeb6a707f50154024b24d7efcb874a9795dd</td>\n",
       "      <td>1</td>\n",
       "      <td>SCORE</td>\n",
       "      <td>10000</td>\n",
       "      <td>100</td>\n",
       "      <td>it0012</td>\n",
       "      <td>2025-09-10 09:19:35</td>\n",
       "      <td>2025-09-10 09:19:45</td>\n",
       "      <td>...</td>\n",
       "      <td>0.0</td>\n",
       "      <td>0.0</td>\n",
       "      <td>0.0</td>\n",
       "      <td>10.0</td>\n",
       "      <td>0.0</td>\n",
       "      <td>0.0</td>\n",
       "      <td>0.0</td>\n",
       "      <td>0.0</td>\n",
       "      <td>0.0</td>\n",
       "      <td>False</td>\n",
       "    </tr>\n",
       "  </tbody>\n",
       "</table>\n",
       "<p>5 rows × 25 columns</p>\n",
       "</div>"
      ],
      "text/plain": [
       "                          assignment_id_raw  \\\n",
       "0  90ce27571176d87961b565d5ef4b3de33ede04ac   \n",
       "1  90ce27571176d87961b565d5ef4b3de33ede04ac   \n",
       "2  90ce27571176d87961b565d5ef4b3de33ede04ac   \n",
       "3  90ce27571176d87961b565d5ef4b3de33ede04ac   \n",
       "4  90ce27571176d87961b565d5ef4b3de33ede04ac   \n",
       "\n",
       "                             problem_id_raw  \\\n",
       "0  789454427dd4097a14749e3dde63346b7a8d3811   \n",
       "1  789454427dd4097a14749e3dde63346b7a8d3811   \n",
       "2  789454427dd4097a14749e3dde63346b7a8d3811   \n",
       "3  bf96fbdc5f499538c3e2bfbec5779c8a14b0a9ff   \n",
       "4  7a6e5ca470ff47c3b5048f240c4738de71010c78   \n",
       "\n",
       "                               username_raw  is_final status  pre_score  \\\n",
       "0  ed9eaeb6a707f50154024b24d7efcb874a9795dd         0  SCORE          0   \n",
       "1  ed9eaeb6a707f50154024b24d7efcb874a9795dd         0  SCORE          0   \n",
       "2  ed9eaeb6a707f50154024b24d7efcb874a9795dd         1  SCORE      10000   \n",
       "3  ed9eaeb6a707f50154024b24d7efcb874a9795dd         1  SCORE      10000   \n",
       "4  ed9eaeb6a707f50154024b24d7efcb874a9795dd         1  SCORE      10000   \n",
       "\n",
       "   coefficient language_id_raw           created_at           updated_at  ...  \\\n",
       "0          100          it0012  2025-09-10 08:02:04  2025-09-10 08:06:58  ...   \n",
       "1          100          it0012  2025-09-10 08:04:41  2025-09-10 08:04:51  ...   \n",
       "2          100          it0012  2025-09-10 08:06:49  2025-09-10 08:06:58  ...   \n",
       "3          100          it0012  2025-09-10 08:47:52  2025-09-10 08:48:01  ...   \n",
       "4          100          it0012  2025-09-10 09:19:35  2025-09-10 09:19:45  ...   \n",
       "\n",
       "  num_failed_overall_tc num_accepted_tc  total_verdicts_tc  num_tc_from_array  \\\n",
       "0                  10.0             0.0               10.0               10.0   \n",
       "1                  10.0             0.0               10.0               10.0   \n",
       "2                   0.0             0.0                0.0               10.0   \n",
       "3                   0.0             0.0                0.0               10.0   \n",
       "4                   0.0             0.0                0.0               10.0   \n",
       "\n",
       "   num_wrong_tc  num_tle_tc  num_mle_tc  num_rte_tc  num_ce_tc  \\\n",
       "0          10.0         0.0         0.0         0.0        0.0   \n",
       "1          10.0         0.0         0.0         0.0        0.0   \n",
       "2           0.0         0.0         0.0         0.0        0.0   \n",
       "3           0.0         0.0         0.0         0.0        0.0   \n",
       "4           0.0         0.0         0.0         0.0        0.0   \n",
       "\n",
       "   is_compile_error  \n",
       "0             False  \n",
       "1             False  \n",
       "2             False  \n",
       "3             False  \n",
       "4             False  \n",
       "\n",
       "[5 rows x 25 columns]"
      ]
     },
     "execution_count": 1,
     "metadata": {},
     "output_type": "execute_result"
    }
   ],
   "source": [
    "# Lib\n",
    "import pandas as pd\n",
    "import numpy as np\n",
    "\n",
    "base_path = '/kaggle/input/data-score/'\n",
    "submission_file = f'{base_path}annonimized_processed.csv'\n",
    "target_file = f'{base_path}qt-public.csv'\n",
    "\n",
    "# 1.2. Tải dữ liệu\n",
    "try:\n",
    "    df_submissions_processed = pd.read_csv(submission_file)\n",
    "    df_target = pd.read_csv(target_file)\n",
    "    print(f\"Tải thành công df_submissions: {df_submissions_processed.shape}\")\n",
    "    print(f\"Tải thành công df_target: {df_target.shape}\")\n",
    "    print(f\"Các cột của data: {df_submissions_processed.columns}\")\n",
    "except Exception as e:\n",
    "    print(f\"LỖI: Không thể tải file. Vui lòng kiểm tra lại đường dẫn. Lỗi: {e}\")\n",
    "    exit()\n",
    "df_submissions_processed.head(5)"
   ]
  },
  {
   "cell_type": "code",
   "execution_count": 2,
   "id": "d28f9d7a",
   "metadata": {
    "execution": {
     "iopub.execute_input": "2025-06-29T17:18:25.039383Z",
     "iopub.status.busy": "2025-06-29T17:18:25.039158Z",
     "iopub.status.idle": "2025-06-29T17:18:25.186775Z",
     "shell.execute_reply": "2025-06-29T17:18:25.185946Z"
    },
    "papermill": {
     "duration": 0.154632,
     "end_time": "2025-06-29T17:18:25.188647",
     "exception": false,
     "start_time": "2025-06-29T17:18:25.034015",
     "status": "completed"
    },
    "tags": []
   },
   "outputs": [
    {
     "name": "stdout",
     "output_type": "stream",
     "text": [
      "\n",
      "4. Chuyển đổi kiểu dữ liệu...\n",
      "   'is_final' chuyển sang int.\n",
      "   'pre_score' chuyển sang numeric.\n",
      "   'coefficient' chuyển sang numeric.\n",
      "   'created_at' chuyển sang datetime\n",
      "   'updated_at' chuyển sang datetime\n"
     ]
    }
   ],
   "source": [
    "print(\"\\n4. Chuyển đổi kiểu dữ liệu...\")\n",
    "if 'is_final' in df_submissions_processed.columns:\n",
    "    df_submissions_processed['is_final'] = df_submissions_processed['is_final'].astype(int)\n",
    "    print(\"   'is_final' chuyển sang int.\")\n",
    "if 'pre_score' in df_submissions_processed.columns:\n",
    "    df_submissions_processed['pre_score'] = pd.to_numeric(df_submissions_processed['pre_score'], errors='coerce') # errors='coerce' sẽ đổi giá trị lỗi thành NaT\n",
    "    print(\"   'pre_score' chuyển sang numeric.\")\n",
    "if 'coefficient' in df_submissions_processed.columns:\n",
    "    df_submissions_processed['coefficient'] = pd.to_numeric(df_submissions_processed['coefficient'], errors='coerce')\n",
    "    print(\"   'coefficient' chuyển sang numeric.\")\n",
    "    \n",
    "if 'created_at' in df_submissions_processed.columns:\n",
    "    df_submissions_processed['created_at'] = pd.to_datetime(df_submissions_processed['created_at'], errors='coerce')\n",
    "    print(\"   'created_at' chuyển sang datetime\")\n",
    "if 'updated_at' in df_submissions_processed.columns:\n",
    "    df_submissions_processed['updated_at'] = pd.to_datetime(df_submissions_processed['updated_at'], errors='coerce')\n",
    "    print(\"   'updated_at' chuyển sang datetime\")"
   ]
  },
  {
   "cell_type": "code",
   "execution_count": 3,
   "id": "42b8b02c",
   "metadata": {
    "execution": {
     "iopub.execute_input": "2025-06-29T17:18:25.200757Z",
     "iopub.status.busy": "2025-06-29T17:18:25.200331Z",
     "iopub.status.idle": "2025-06-29T17:18:25.213569Z",
     "shell.execute_reply": "2025-06-29T17:18:25.212811Z"
    },
    "papermill": {
     "duration": 0.019725,
     "end_time": "2025-06-29T17:18:25.214701",
     "exception": false,
     "start_time": "2025-06-29T17:18:25.194976",
     "status": "completed"
    },
    "tags": []
   },
   "outputs": [
    {
     "name": "stdout",
     "output_type": "stream",
     "text": [
      "\n",
      "Đã xử lý file target. Số sinh viên có điểm TH: 755\n",
      "\n",
      "3. 'student_id' (từ hash) giữ kiểu string.\n",
      "   'score_qt' (từ TH) chuyển sang numeric.\n",
      "\n",
      "4. Kiểm tra dữ liệu thiếu (NaN) trong df_target đã xử lý:\n",
      "score_qt    1\n",
      "dtype: int64\n",
      "   Đã loại bỏ 1 hàng có 'score_qt' bị thiếu.\n",
      "Số dòng trong df_target_processed: 754\n"
     ]
    }
   ],
   "source": [
    "df_target.rename(columns={'hash': 'student_id', 'diemqt': 'score_qt'}, inplace=True)\n",
    "df_target.dropna(subset=['score_qt'], inplace=True)\n",
    "print(f\"\\nĐã xử lý file target. Số sinh viên có điểm TH: {len(df_target)}\")\n",
    "\n",
    "# 3. Chuyển đổi Kiểu Dữ liệu\n",
    "if 'student_id' in df_target.columns:\n",
    "    df_target['student_id'] = df_target['student_id'].astype(str) \n",
    "    print(\"\\n3. 'student_id' (từ hash) giữ kiểu string.\")\n",
    "if 'score_qt' in df_target.columns:\n",
    "    df_target['score_qt'] = pd.to_numeric(df_target['score_qt'], errors='coerce') \n",
    "    print(\"   'score_qt' (từ TH) chuyển sang numeric.\")\n",
    "\n",
    "# 4. Kiểm tra và Xử lý Dữ liệu Thiếu (NaN)\n",
    "print(\"\\n4. Kiểm tra dữ liệu thiếu (NaN) trong df_target đã xử lý:\")\n",
    "nan_counts_target = df_target.isnull().sum()\n",
    "print(nan_counts_target[nan_counts_target > 0]) \n",
    "\n",
    "# Xử lý NaN cho score_qt (loại bỏ hàng có điểm NaN) - QUAN TRỌNG\n",
    "if 'score_qt' in df_target.columns:\n",
    "    original_len = len(df_target)\n",
    "    df_target.dropna(subset=['score_qt'], inplace=True)\n",
    "    print(f\"   Đã loại bỏ {original_len - len(df_target)} hàng có 'score_qt' bị thiếu.\")\n",
    "    \n",
    "df_target_processed = df_target.copy()\n",
    "print(f\"Số dòng trong df_target_processed: {len(df_target_processed)}\")"
   ]
  },
  {
   "cell_type": "markdown",
   "id": "d5bf12f0",
   "metadata": {
    "papermill": {
     "duration": 0.004336,
     "end_time": "2025-06-29T17:18:25.223542",
     "exception": false,
     "start_time": "2025-06-29T17:18:25.219206",
     "status": "completed"
    },
    "tags": []
   },
   "source": [
    "# **Trích xuất đặc trưng**"
   ]
  },
  {
   "cell_type": "markdown",
   "id": "7676f4bb",
   "metadata": {
    "papermill": {
     "duration": 0.004266,
     "end_time": "2025-06-29T17:18:25.232144",
     "exception": false,
     "start_time": "2025-06-29T17:18:25.227878",
     "status": "completed"
    },
    "tags": []
   },
   "source": [
    "## Ban đầu"
   ]
  },
  {
   "cell_type": "code",
   "execution_count": 4,
   "id": "fd71be24",
   "metadata": {
    "execution": {
     "iopub.execute_input": "2025-06-29T17:18:25.242041Z",
     "iopub.status.busy": "2025-06-29T17:18:25.241825Z",
     "iopub.status.idle": "2025-06-29T17:18:27.724346Z",
     "shell.execute_reply": "2025-06-29T17:18:27.723404Z"
    },
    "papermill": {
     "duration": 2.489466,
     "end_time": "2025-06-29T17:18:27.725951",
     "exception": false,
     "start_time": "2025-06-29T17:18:25.236485",
     "status": "completed"
    },
    "tags": []
   },
   "outputs": [
    {
     "name": "stdout",
     "output_type": "stream",
     "text": [
      "--- Bắt đầu Trích xuất Đặc trưng (Feature Engineering) ---\n",
      "\n",
      "1. Chuẩn bị dữ liệu nền tảng...\n",
      "    Số lượng submission không 'pending': 295188\n",
      "    Điểm tối đa (MAX_PRE_SCORE) được xác định là: 10000.0\n",
      "    Đã tạo các cột 'actual_score', 'is_successful_submission', 'is_error_submission'.\n",
      "\n",
      "2. Tính toán các nhóm đặc trưng...\n",
      "    a. Đặc trưng hoạt động tổng quát...\n",
      "    b. Đặc trưng về điểm số...\n",
      "    c. Đặc trưng về 'thành công'...\n",
      "    d. Đặc trưng từ 'coefficient'...\n",
      "    e. Đặc trưng về lỗi và trạng thái...\n",
      "    f. Đặc trưng về thời gian...\n",
      "    g. Đặc trưng từ các lần nộp is_final=1...\n",
      "\n",
      "3. Xử lý NaN trong df_student_features cuối cùng...\n",
      "\n",
      "--- HOÀN THÀNH TRÍCH XUẤT ĐẶC TRƯNG ---\n",
      "Số lượng sinh viên trong df_student_features: 1489\n",
      "Số lượng đặc trưng được tạo (bao gồm student_id): 38\n",
      "\n",
      "5 dòng đầu của df_student_features:\n",
      "                                 student_id  total_submissions  \\\n",
      "0  ed9eaeb6a707f50154024b24d7efcb874a9795dd                139   \n",
      "1  ba12c0a2cb367af0467e479c03507c71a805d291                319   \n",
      "2  0bd2037bf68a97753e5e67ab55dac026a649f279                220   \n",
      "3  b7298b0fe50443a623af9b56792b330c2d052845                247   \n",
      "4  c60be70309789b39355dc612f36e37090ccad5dc                172   \n",
      "\n",
      "   num_pending_submissions  num_unique_problems_attempted  \\\n",
      "0                      0.0                             58   \n",
      "1                      0.0                            112   \n",
      "2                      0.0                             54   \n",
      "3                      0.0                            110   \n",
      "4                      0.0                             83   \n",
      "\n",
      "   num_unique_assignments_attempted  num_unique_languages_used  days_active  \\\n",
      "0                                 5                          1         92.0   \n",
      "1                                 6                          1        343.0   \n",
      "2                                 5                          1         61.0   \n",
      "3                                 5                          1        344.0   \n",
      "4                                10                          1        343.0   \n",
      "\n",
      "   pre_score_mean  pre_score_median  pre_score_max  ...  \\\n",
      "0     5305.553957            7272.0          10000  ...   \n",
      "1     5228.576803            6000.0          10000  ...   \n",
      "2     4550.186364            4000.0          10000  ...   \n",
      "3     5998.854251            8000.0          10000  ...   \n",
      "4     6237.773256            8571.0          10000  ...   \n",
      "\n",
      "   avg_num_mle_tc_ok_runs  avg_num_rte_tc_ok_runs  \\\n",
      "0                     0.0                0.457143   \n",
      "1                     0.0                1.110204   \n",
      "2                     0.0                0.245399   \n",
      "3                     0.0                0.597156   \n",
      "4                     0.0                0.123288   \n",
      "\n",
      "   avg_time_between_submissions_hours  submission_hour_mode  \\\n",
      "0                           63.341143                   9.0   \n",
      "1                           46.793837                  10.0   \n",
      "2                           44.587896                  16.0   \n",
      "3                          153.092850                   3.0   \n",
      "4                          114.428052                  13.0   \n",
      "\n",
      "   weekend_submission_rate  num_final_submissions  final_actual_score_mean  \\\n",
      "0                 0.000000                   58.0              9801.724138   \n",
      "1                 0.276836                  117.0             10000.000000   \n",
      "2                 0.558824                   54.0              9084.166667   \n",
      "3                 0.200000                  110.0              9911.881818   \n",
      "4                 0.082192                   83.0              9722.891566   \n",
      "\n",
      "   final_actual_score_max  final_actual_score_std  \\\n",
      "0                 10000.0             1324.332520   \n",
      "1                 10000.0                0.000000   \n",
      "2                 10000.0             2728.136027   \n",
      "3                 10000.0              756.186227   \n",
      "4                 10000.0             1074.235440   \n",
      "\n",
      "   rate_successful_final_submissions  \n",
      "0                           0.965517  \n",
      "1                           1.000000  \n",
      "2                           0.870370  \n",
      "3                           0.981818  \n",
      "4                           0.915663  \n",
      "\n",
      "[5 rows x 38 columns]\n"
     ]
    }
   ],
   "source": [
    "# === BẮT ĐẦU PHẦN FEATURE ENGINEERING ===\n",
    "print(\"--- Bắt đầu Trích xuất Đặc trưng (Feature Engineering) ---\")\n",
    "\n",
    "\n",
    "# 1. Chuẩn bị Dữ liệu Nền tảng cho Feature Engineering\n",
    "print(\"\\n1. Chuẩn bị dữ liệu nền tảng...\")\n",
    "\n",
    "# Chỉ làm việc với các submission đã được chấm (không 'pending')\n",
    "df_non_pending_submissions = df_submissions_processed[df_submissions_processed['status'] != 'pending'].copy()\n",
    "print(f\"    Số lượng submission không 'pending': {len(df_non_pending_submissions)}\")\n",
    "\n",
    "# Xác định điểm tối đa để định nghĩa \"thành công\"\n",
    "if df_non_pending_submissions.empty or df_non_pending_submissions['pre_score'].isnull().all():\n",
    "    print(\"LƯU Ý: Không có submission hợp lệ để tính MAX_PRE_SCORE. Đặt mặc định là 100.0\")\n",
    "    MAX_PRE_SCORE = 100.0\n",
    "else:\n",
    "    MAX_PRE_SCORE = float(df_non_pending_submissions['pre_score'].max())\n",
    "print(f\"    Điểm tối đa (MAX_PRE_SCORE) được xác định là: {MAX_PRE_SCORE}\")\n",
    "\n",
    "# Tạo các cột tính toán trong df_non_pending_submissions\n",
    "df_non_pending_submissions['actual_score'] = df_non_pending_submissions['pre_score'] * (df_non_pending_submissions['coefficient'] / 100.0)\n",
    "df_non_pending_submissions['is_successful_submission'] = (df_non_pending_submissions['pre_score'] == MAX_PRE_SCORE)\n",
    "df_non_pending_submissions['is_error_submission'] = \\\n",
    "    (df_non_pending_submissions['is_compile_error'] == True) | \\\n",
    "    (df_non_pending_submissions['status'].isin(['Compilation Error', 'Syntax Error']))\n",
    "print(\"    Đã tạo các cột 'actual_score', 'is_successful_submission', 'is_error_submission'.\")\n",
    "\n",
    "\n",
    "# Nhóm theo student_id để tổng hợp\n",
    "grouped_all_submissions = df_submissions_processed.groupby('student_id')\n",
    "grouped_non_pending = df_non_pending_submissions.groupby('student_id')\n",
    "\n",
    "# DataFrame để lưu trữ tất cả các features của sinh viên\n",
    "df_student_features = pd.DataFrame(index=df_submissions_processed['student_id'].unique())\n",
    "df_student_features.index.name = 'student_id'\n",
    "\n",
    "\n",
    "print(\"\\n2. Tính toán các nhóm đặc trưng...\")\n",
    "\n",
    "# --- a. Hoạt động Tổng quát của Sinh viên ---\n",
    "print(\"    a. Đặc trưng hoạt động tổng quát...\")\n",
    "df_student_features['total_submissions'] = grouped_all_submissions.size()\n",
    "df_student_features['num_pending_submissions'] = df_submissions_processed[df_submissions_processed['status'] == 'pending'].groupby('student_id').size()\n",
    "df_student_features['num_unique_problems_attempted'] = grouped_all_submissions['problem_id_raw'].nunique()\n",
    "df_student_features['num_unique_assignments_attempted'] = grouped_all_submissions['assignment_id_raw'].nunique()\n",
    "df_student_features['num_unique_languages_used'] = grouped_all_submissions['language_id'].nunique()\n",
    "df_student_features['days_active'] = (grouped_all_submissions['created_at'].max() - grouped_all_submissions['created_at'].min()).dt.days\n",
    "\n",
    "# --- b. Đặc trưng về Điểm số ---\n",
    "print(\"    b. Đặc trưng về điểm số...\")\n",
    "agg_funcs_score = ['mean', 'median', 'max', 'sum', 'std']\n",
    "pre_score_agg = grouped_non_pending['pre_score'].agg(agg_funcs_score).add_prefix('pre_score_')\n",
    "df_student_features = df_student_features.join(pre_score_agg, how='left')\n",
    "actual_score_agg = grouped_non_pending['actual_score'].agg(agg_funcs_score).add_prefix('actual_score_')\n",
    "df_student_features = df_student_features.join(actual_score_agg, how='left')\n",
    "\n",
    "# --- c. Đặc trưng Dựa trên Định nghĩa \"Thành công\" ---\n",
    "print(\"    c. Đặc trưng về 'thành công'...\")\n",
    "df_student_features['num_problems_MAX_PRE_SCORE_achieved'] = df_non_pending_submissions[\n",
    "    df_non_pending_submissions['is_successful_submission']\n",
    "].groupby('student_id')['problem_id_raw'].nunique()\n",
    "df_student_features['rate_successful_submissions'] = grouped_non_pending['is_successful_submission'].mean()\n",
    "\n",
    "# --- d. Đặc trưng từ `coefficient` ---\n",
    "print(\"    d. Đặc trưng từ 'coefficient'...\")\n",
    "coeff_agg = grouped_non_pending['coefficient'].agg(['mean', 'min', 'std']).add_prefix('coefficient_')\n",
    "df_student_features = df_student_features.join(coeff_agg, how='left')\n",
    "\n",
    "# --- e. Đặc trưng về Lỗi và Trạng thái ---\n",
    "print(\"    e. Đặc trưng về lỗi và trạng thái...\")\n",
    "df_student_features['non_pending_error_rate'] = grouped_non_pending['is_error_submission'].mean()\n",
    "status_counts = df_non_pending_submissions.groupby('student_id')['status'].value_counts().unstack(fill_value=0)\n",
    "status_counts = status_counts.add_prefix('count_status_')\n",
    "df_student_features = df_student_features.join(status_counts, how='left')\n",
    "\n",
    "# Đặc trưng từ judgement trên các lần chạy không lỗi biên dịch\n",
    "df_ok_runs = df_non_pending_submissions[~df_non_pending_submissions['is_error_submission']]\n",
    "if not df_ok_runs.empty:\n",
    "    grouped_ok_runs = df_ok_runs.groupby('student_id')\n",
    "    for col in ['num_wrong_tc', 'num_tle_tc', 'num_mle_tc', 'num_rte_tc']:\n",
    "        df_student_features[f'avg_{col}_ok_runs'] = grouped_ok_runs[col].mean()\n",
    "\n",
    "# --- f. Đặc trưng về Thời gian ---\n",
    "print(\"    f. Đặc trưng về thời gian...\")\n",
    "def avg_time_diff_hours(series):\n",
    "    if len(series) < 2: return np.nan\n",
    "    return series.sort_values().diff().mean().total_seconds() / 3600.0\n",
    "\n",
    "df_student_features['avg_time_between_submissions_hours'] = grouped_all_submissions['created_at'].apply(avg_time_diff_hours)\n",
    "df_student_features['submission_hour_mode'] = grouped_all_submissions['created_at'].apply(lambda x: x.dt.hour.mode()[0] if not x.empty and not x.dt.hour.mode().empty else np.nan)\n",
    "def weekend_rate(series):\n",
    "    # Lấy ngày trong tuần, bỏ NaT\n",
    "    dow = series.dt.dayofweek.dropna()\n",
    "    if dow.empty:\n",
    "        return np.nan\n",
    "    # Tính tỷ lệ ngày cuối tuần\n",
    "    return (dow >= 5).mean()\n",
    "\n",
    "df_student_features['weekend_submission_rate'] = \\\n",
    "    grouped_all_submissions['created_at'].apply(weekend_rate)\n",
    "\n",
    "\n",
    "\n",
    "# --- g. Đặc trưng từ các Lần nộp `is_final == 1` ---\n",
    "print(\"    g. Đặc trưng từ các lần nộp is_final=1...\")\n",
    "df_final = df_non_pending_submissions[df_non_pending_submissions['is_final'] == 1].copy()\n",
    "if not df_final.empty:\n",
    "    grouped_final = df_final.groupby('student_id')\n",
    "    df_student_features['num_final_submissions'] = grouped_final.size()\n",
    "    final_score_agg = grouped_final['actual_score'].agg(['mean', 'max', 'std']).add_prefix('final_actual_score_')\n",
    "    df_student_features = df_student_features.join(final_score_agg, how='left')\n",
    "    df_student_features['rate_successful_final_submissions'] = grouped_final['is_successful_submission'].mean()\n",
    "\n",
    "\n",
    "# 3. Xử lý NaN cuối cùng\n",
    "print(\"\\n3. Xử lý NaN trong df_student_features cuối cùng...\")\n",
    "# Điền 0 cho hầu hết các cột, vì NaN thường có nghĩa là \"không có\" (không có submission, không có lỗi, etc.)\n",
    "# Có thể áp dụng các chiến lược phức tạp hơn nếu cần\n",
    "df_student_features.fillna(0, inplace=True)\n",
    "\n",
    "\n",
    "# 4. Hoàn thành\n",
    "print(\"\\n--- HOÀN THÀNH TRÍCH XUẤT ĐẶC TRƯNG ---\")\n",
    "if df_student_features.index.name == 'student_id':\n",
    "    df_student_features.reset_index(inplace=True)\n",
    "\n",
    "print(f\"Số lượng sinh viên trong df_student_features: {len(df_student_features)}\")\n",
    "print(f\"Số lượng đặc trưng được tạo (bao gồm student_id): {len(df_student_features.columns)}\")\n",
    "print(\"\\n5 dòng đầu của df_student_features:\")\n",
    "print(df_student_features.head())"
   ]
  },
  {
   "cell_type": "markdown",
   "id": "84451e38",
   "metadata": {
    "papermill": {
     "duration": 0.005732,
     "end_time": "2025-06-29T17:18:27.738312",
     "exception": false,
     "start_time": "2025-06-29T17:18:27.732580",
     "status": "completed"
    },
    "tags": []
   },
   "source": [
    "## Cải tiến"
   ]
  },
  {
   "cell_type": "code",
   "execution_count": 5,
   "id": "50871b3b",
   "metadata": {
    "execution": {
     "iopub.execute_input": "2025-06-29T17:18:27.749894Z",
     "iopub.status.busy": "2025-06-29T17:18:27.749676Z",
     "iopub.status.idle": "2025-06-29T17:19:42.297306Z",
     "shell.execute_reply": "2025-06-29T17:19:42.296543Z"
    },
    "papermill": {
     "duration": 74.560532,
     "end_time": "2025-06-29T17:19:42.303996",
     "exception": false,
     "start_time": "2025-06-29T17:18:27.743464",
     "status": "completed"
    },
    "tags": []
   },
   "outputs": [
    {
     "name": "stdout",
     "output_type": "stream",
     "text": [
      "--- Bắt đầu Phần 1: Cải tiến Đặc trưng  ---\n",
      "\n",
      " Chuẩn bị dữ liệu nền tảng cho việc tạo feature mới...\n",
      "Tạo và thêm các đặc trưng mới một cách an toàn...\n",
      "   Đã hoàn thành tạo các đặc trưng mới.\n",
      "   Tổng số đặc trưng hiện tại: 41\n"
     ]
    },
    {
     "name": "stderr",
     "output_type": "stream",
     "text": [
      "/tmp/ipykernel_18/1186503589.py:44: DeprecationWarning: DataFrameGroupBy.apply operated on the grouping columns. This behavior is deprecated, and in a future version of pandas the grouping columns will be excluded from the operation. Either pass `include_groups=False` to exclude the groupings or explicitly select the grouping columns after groupby to silence this warning.\n",
      "  consecutive_failures_per_problem = df_non_pending_sorted.groupby(['student_id', 'problem_id_raw']).apply(get_max_consecutive_failures)\n"
     ]
    }
   ],
   "source": [
    "print(\"--- Bắt đầu Phần 1: Cải tiến Đặc trưng  ---\")\n",
    "\n",
    "if 'df_submissions_processed' not in locals() or 'df_student_features' not in locals():\n",
    "    print(\"LỖI: Cần df_submissions_processed và df_student_features từ các bước trước.\")\n",
    "    exit()\n",
    "\n",
    "# 1.1. Chuẩn bị dữ liệu nền tảng\n",
    "print(\"\\n Chuẩn bị dữ liệu nền tảng cho việc tạo feature mới...\")\n",
    "df_non_pending = df_submissions_processed[df_submissions_processed['status'] != 'pending'].copy()\n",
    "\n",
    "if not df_non_pending.empty:\n",
    "    df_non_pending['is_successful_submission'] = (df_non_pending['pre_score'] == MAX_PRE_SCORE)\n",
    "    \n",
    "    df_non_pending_sorted = df_non_pending.sort_values(by=['student_id', 'problem_id_raw', 'created_at'])\n",
    "\n",
    "    # 1.2. Tạo đặc trưng mới và thêm vào df_student_features\n",
    "    print(\"Tạo và thêm các đặc trưng mới một cách an toàn...\")\n",
    "    \n",
    "    # a) num_problems_solved_on_first_try\n",
    "    first_submissions = df_non_pending_sorted.groupby(['student_id', 'problem_id_raw']).first().reset_index()\n",
    "    first_try_successes = first_submissions[first_submissions['is_successful_submission']]\n",
    "    num_first_try_solved = first_try_successes.groupby('student_id').size().rename('num_problems_solved_on_first_try')\n",
    "    \n",
    "    if 'num_problems_solved_on_first_try' in df_student_features.columns:\n",
    "        df_student_features = df_student_features.drop(columns=['num_problems_solved_on_first_try'])\n",
    "    df_student_features = df_student_features.merge(num_first_try_solved, on='student_id', how='left')\n",
    "\n",
    "    # b) submission_to_success_ratio`\n",
    "    successful_submission_counts = df_non_pending.groupby('student_id')['is_successful_submission'].sum()\n",
    "    non_pending_submission_counts = df_non_pending.groupby('student_id').size()\n",
    "    submission_to_success_ratio = (successful_submission_counts / non_pending_submission_counts.replace(0, np.nan)).rename('submission_to_success_ratio')\n",
    "    \n",
    "    if 'submission_to_success_ratio' in df_student_features.columns:\n",
    "        df_student_features = df_student_features.drop(columns=['submission_to_success_ratio'])\n",
    "    df_student_features = df_student_features.merge(submission_to_success_ratio, on='student_id', how='left')\n",
    "    \n",
    "    # c) max_consecutive_failed_submissions\n",
    "    def get_max_consecutive_failures(group):\n",
    "        is_successful = group['is_successful_submission']\n",
    "        failure_blocks = is_successful.groupby((is_successful != is_successful.shift()).cumsum())\n",
    "        max_failures = failure_blocks.apply(lambda x: len(x) if not x.iloc[0] else 0).max()\n",
    "        return max_failures\n",
    "\n",
    "    consecutive_failures_per_problem = df_non_pending_sorted.groupby(['student_id', 'problem_id_raw']).apply(get_max_consecutive_failures)\n",
    "    max_consecutive_failures_per_student = consecutive_failures_per_problem.groupby('student_id').max().rename('max_consecutive_failed_submissions')\n",
    "\n",
    "    if 'max_consecutive_failed_submissions' in df_student_features.columns:\n",
    "        df_student_features = df_student_features.drop(columns=['max_consecutive_failed_submissions'])\n",
    "    df_student_features = df_student_features.merge(max_consecutive_failures_per_student, on='student_id', how='left')\n",
    "    \n",
    "    # Điền NaN cho các feature mới\n",
    "    df_student_features.fillna(0, inplace=True)\n",
    "    print(\"   Đã hoàn thành tạo các đặc trưng mới.\")\n",
    "else:\n",
    "    print(\"   Không có submission không 'pending' để tạo feature mới.\")\n",
    "    \n",
    "print(f\"   Tổng số đặc trưng hiện tại: {len(df_student_features.columns)}\")"
   ]
  },
  {
   "cell_type": "markdown",
   "id": "df71698a",
   "metadata": {
    "papermill": {
     "duration": 0.005071,
     "end_time": "2025-06-29T17:19:42.314045",
     "exception": false,
     "start_time": "2025-06-29T17:19:42.308974",
     "status": "completed"
    },
    "tags": []
   },
   "source": [
    "# **Chuẩn bị dữ liệu huấn luyện**"
   ]
  },
  {
   "cell_type": "code",
   "execution_count": 6,
   "id": "b60a56a7",
   "metadata": {
    "execution": {
     "iopub.execute_input": "2025-06-29T17:19:42.324995Z",
     "iopub.status.busy": "2025-06-29T17:19:42.324393Z",
     "iopub.status.idle": "2025-06-29T17:19:42.328942Z",
     "shell.execute_reply": "2025-06-29T17:19:42.328364Z"
    },
    "papermill": {
     "duration": 0.010994,
     "end_time": "2025-06-29T17:19:42.329986",
     "exception": false,
     "start_time": "2025-06-29T17:19:42.318992",
     "status": "completed"
    },
    "tags": []
   },
   "outputs": [
    {
     "name": "stdout",
     "output_type": "stream",
     "text": [
      "--- DANH SÁCH CÁC CỘT FEATURES HIỆN CÓ ---\n",
      "Tổng số features: 40\n",
      "['total_submissions', 'num_pending_submissions', 'num_unique_problems_attempted', 'num_unique_assignments_attempted', 'num_unique_languages_used', 'days_active', 'pre_score_mean', 'pre_score_median', 'pre_score_max', 'pre_score_sum', 'pre_score_std', 'actual_score_mean', 'actual_score_median', 'actual_score_max', 'actual_score_sum', 'actual_score_std', 'num_problems_MAX_PRE_SCORE_achieved', 'rate_successful_submissions', 'coefficient_mean', 'coefficient_min', 'coefficient_std', 'non_pending_error_rate', 'count_status_Compilation Error', 'count_status_SCORE', 'count_status_Syntax Error', 'avg_num_wrong_tc_ok_runs', 'avg_num_tle_tc_ok_runs', 'avg_num_mle_tc_ok_runs', 'avg_num_rte_tc_ok_runs', 'avg_time_between_submissions_hours', 'submission_hour_mode', 'weekend_submission_rate', 'num_final_submissions', 'final_actual_score_mean', 'final_actual_score_max', 'final_actual_score_std', 'rate_successful_final_submissions', 'num_problems_solved_on_first_try', 'submission_to_success_ratio', 'max_consecutive_failed_submissions']\n"
     ]
    }
   ],
   "source": [
    "print(\"--- DANH SÁCH CÁC CỘT FEATURES HIỆN CÓ ---\")\n",
    "feature_list = df_student_features.columns.tolist()\n",
    "# Bỏ cột 'student_id' ra khỏi danh sách features dùng để huấn luyện\n",
    "if 'student_id' in feature_list:\n",
    "    feature_list.remove('student_id')\n",
    "\n",
    "print(f\"Tổng số features: {len(feature_list)}\")\n",
    "print(feature_list)"
   ]
  },
  {
   "cell_type": "code",
   "execution_count": 7,
   "id": "6d4c96c8",
   "metadata": {
    "execution": {
     "iopub.execute_input": "2025-06-29T17:19:42.340433Z",
     "iopub.status.busy": "2025-06-29T17:19:42.340233Z",
     "iopub.status.idle": "2025-06-29T17:19:43.717903Z",
     "shell.execute_reply": "2025-06-29T17:19:43.717002Z"
    },
    "papermill": {
     "duration": 1.384249,
     "end_time": "2025-06-29T17:19:43.719069",
     "exception": false,
     "start_time": "2025-06-29T17:19:42.334820",
     "status": "completed"
    },
    "tags": []
   },
   "outputs": [
    {
     "name": "stdout",
     "output_type": "stream",
     "text": [
      "\n",
      "1. Chuẩn bị dữ liệu cho mô hình...\n",
      "   Số lượng sinh viên có cả đặc trưng và điểm TH (sau merge): 754\n",
      "Số lượng mẫu: (754, 40)\n",
      "Số lượng target: (754,)\n"
     ]
    }
   ],
   "source": [
    "from sklearn.model_selection import train_test_split, RandomizedSearchCV\n",
    "\n",
    "print(\"\\n1. Chuẩn bị dữ liệu cho mô hình...\")\n",
    "df_student_features['student_id'] = df_student_features['student_id'].astype(str)\n",
    "df_target_processed['student_id'] = df_target_processed['student_id'].astype(str)\n",
    "df_final_for_modeling = pd.merge(df_student_features, df_target_processed, on='student_id', how='inner')\n",
    "\n",
    "if df_final_for_modeling.empty:\n",
    "    print(\"LỖI: Sau khi merge, không có dữ liệu nào để huấn luyện.\")\n",
    "    exit()\n",
    "\n",
    "print(f\"   Số lượng sinh viên có cả đặc trưng và điểm TH (sau merge): {len(df_final_for_modeling)}\")\n",
    "\n",
    "X = df_final_for_modeling.drop(columns=['student_id', 'score_qt'])\n",
    "y = df_final_for_modeling['score_qt']\n",
    "print(f\"Số lượng mẫu: {X.shape}\")\n",
    "print(f\"Số lượng target: {y.shape}\")\n",
    "if X.isnull().values.any():\n",
    "    print(\"LƯU Ý: Có giá trị NaN trong tập đặc trưng X. Điền NaN bằng 0 cho ví dụ này.\")\n",
    "    X = X.fillna(0) \n"
   ]
  },
  {
   "cell_type": "code",
   "execution_count": 8,
   "id": "590e5459",
   "metadata": {
    "execution": {
     "iopub.execute_input": "2025-06-29T17:19:43.730823Z",
     "iopub.status.busy": "2025-06-29T17:19:43.730540Z",
     "iopub.status.idle": "2025-06-29T17:21:43.385073Z",
     "shell.execute_reply": "2025-06-29T17:21:43.384390Z"
    },
    "papermill": {
     "duration": 119.66208,
     "end_time": "2025-06-29T17:21:43.386500",
     "exception": false,
     "start_time": "2025-06-29T17:19:43.724420",
     "status": "completed"
    },
    "tags": []
   },
   "outputs": [
    {
     "name": "stdout",
     "output_type": "stream",
     "text": [
      "\n",
      "--- Bắt đầu quy trình lựa chọn feature cuối cùng bằng RFECV ---\n",
      "Lưu ý: Quá trình này có thể mất nhiều thời gian...\n",
      "-> RFECV sẽ chạy trên 40 features.\n",
      "Các feature hạng mục được phát hiện cho RFECV: []\n",
      "Fitting estimator with 40 features.\n",
      "Fitting estimator with 39 features.\n",
      "Fitting estimator with 38 features.\n",
      "Fitting estimator with 37 features.\n",
      "Fitting estimator with 36 features.\n",
      "Fitting estimator with 35 features.\n",
      "Fitting estimator with 34 features.\n",
      "Fitting estimator with 33 features.\n",
      "Fitting estimator with 32 features.\n",
      "Fitting estimator with 31 features.\n",
      "Fitting estimator with 30 features.\n",
      "Fitting estimator with 29 features.\n",
      "Fitting estimator with 28 features.\n",
      "Fitting estimator with 27 features.\n",
      "\n",
      "-> RFECV đã tìm thấy 26 feature là tối ưu nhất.\n",
      "Danh sách các feature được chọn: ['total_submissions', 'num_unique_problems_attempted', 'num_unique_assignments_attempted', 'days_active', 'pre_score_mean', 'pre_score_median', 'pre_score_std', 'actual_score_sum', 'num_problems_MAX_PRE_SCORE_achieved', 'rate_successful_submissions', 'non_pending_error_rate', 'count_status_Compilation Error', 'count_status_SCORE', 'avg_num_wrong_tc_ok_runs', 'avg_num_tle_tc_ok_runs', 'avg_num_rte_tc_ok_runs', 'avg_time_between_submissions_hours', 'submission_hour_mode', 'weekend_submission_rate', 'num_final_submissions', 'final_actual_score_mean', 'final_actual_score_std', 'rate_successful_final_submissions', 'num_problems_solved_on_first_try', 'submission_to_success_ratio', 'max_consecutive_failed_submissions']\n"
     ]
    },
    {
     "data": {
      "image/png": "[encoded data removed]",
      "text/plain": [
       "<Figure size 1200x700 with 1 Axes>"
      ]
     },
     "metadata": {},
     "output_type": "display_data"
    }
   ],
   "source": [
    "# ==============================================================================\n",
    "# SỬ DỤNG RFECV ĐỂ LỌC RA BỘ FEATURE TỐI ƯU CUỐI CÙNG\n",
    "# ==============================================================================\n",
    "from sklearn.feature_selection import RFECV\n",
    "from catboost import CatBoostRegressor \n",
    "import matplotlib.pyplot as plt\n",
    "\n",
    "print(\"\\n--- Bắt đầu quy trình lựa chọn feature cuối cùng bằng RFECV ---\")\n",
    "print(\"Lưu ý: Quá trình này có thể mất nhiều thời gian...\")\n",
    "\n",
    "\n",
    "print(f\"-> RFECV sẽ chạy trên {X.shape[1]} features.\")\n",
    "\n",
    "\n",
    "# 2. Xác định các cột hạng mục (nếu có trong bộ feature cuối cùng)\n",
    "# Ví dụ: is_low_activity là một feature hạng mục tiềm năng\n",
    "categorical_features_names = X.select_dtypes(include=['category', 'object']).columns.tolist()\n",
    "if 'is_low_activity' in X.columns:\n",
    "    if 'is_low_activity' not in categorical_features_names:\n",
    "        categorical_features_names.append('is_low_activity')\n",
    "print(\"Các feature hạng mục được phát hiện cho RFECV:\", categorical_features_names)\n",
    "\n",
    "\n",
    "# 3. Khởi tạo mô hình CatBoost sẽ được dùng bên trong RFECV\n",
    "# Dùng ít iterations hơn để quá trình chạy nhanh hơn\n",
    "estimator_for_rfe = CatBoostRegressor(\n",
    "    random_state=42,\n",
    "    iterations=300,  # Giảm bớt số vòng lặp cho nhanh\n",
    "    cat_features=categorical_features_names,\n",
    "    verbose=0\n",
    ")\n",
    "\n",
    "# 4. Khởi tạo và chạy RFECV\n",
    "# cv=3: Dùng 3-fold cross-validation để đánh giá (cân bằng giữa tốc độ và độ tin cậy)\n",
    "# scoring='r2': Mục tiêu là tối đa hóa điểm R²\n",
    "selector = RFECV(\n",
    "    estimator=estimator_for_rfe,\n",
    "    step=1,          # Mỗi lần loại bỏ 1 feature\n",
    "    cv=3,            \n",
    "    scoring='r2',\n",
    "    n_jobs=-1,       # Sử dụng tất cả các nhân CPU\n",
    "    verbose=1        # Hiển thị tiến trình\n",
    ")\n",
    "\n",
    "selector.fit(X, y)\n",
    "\n",
    "# 5. Lấy kết quả và trực quan hóa\n",
    "final_optimal_features = X.columns[selector.support_]\n",
    "print(f\"\\n-> RFECV đã tìm thấy {selector.n_features_} feature là tối ưu nhất.\")\n",
    "print(\"Danh sách các feature được chọn:\", list(final_optimal_features))\n",
    "\n",
    "# Vẽ biểu đồ để xem quá trình lựa chọn\n",
    "plt.figure(figsize=(12, 7))\n",
    "plt.title('Quá trình lựa chọn Feature của RFECV')\n",
    "plt.xlabel(\"Số lượng feature được chọn\")\n",
    "plt.ylabel(\"Điểm R² (Cross-Validation)\")\n",
    "# Lấy kết quả điểm từ RFECV\n",
    "cv_results = selector.cv_results_['mean_test_score']\n",
    "plt.plot(range(1, len(cv_results) + 1), cv_results, marker='o', linestyle='--')\n",
    "\n",
    "# Đánh dấu điểm tốt nhất\n",
    "best_n_features = selector.n_features_\n",
    "best_score = cv_results[best_n_features-1]\n",
    "plt.plot(best_n_features, best_score, 'ro', markersize=10, label=f'Tốt nhất: {best_n_features} features\\nR² = {best_score:.4f}')\n",
    "\n",
    "plt.legend()\n",
    "plt.grid()\n",
    "plt.show()"
   ]
  },
  {
   "cell_type": "code",
   "execution_count": 9,
   "id": "239035eb",
   "metadata": {
    "execution": {
     "iopub.execute_input": "2025-06-29T17:21:43.401652Z",
     "iopub.status.busy": "2025-06-29T17:21:43.401422Z",
     "iopub.status.idle": "2025-06-29T17:21:43.409683Z",
     "shell.execute_reply": "2025-06-29T17:21:43.408957Z"
    },
    "papermill": {
     "duration": 0.016472,
     "end_time": "2025-06-29T17:21:43.410679",
     "exception": false,
     "start_time": "2025-06-29T17:21:43.394207",
     "status": "completed"
    },
    "tags": []
   },
   "outputs": [
    {
     "data": {
      "text/plain": [
       "(603, 26)"
      ]
     },
     "execution_count": 9,
     "metadata": {},
     "output_type": "execute_result"
    }
   ],
   "source": [
    "# Chia train/val\n",
    "X_new = X[list(final_optimal_features)]\n",
    "X_train, X_val, y_train, y_val = train_test_split(X_new, y, test_size=0.2, random_state=42)\n",
    "X_train.shape"
   ]
  },
  {
   "cell_type": "code",
   "execution_count": 10,
   "id": "515460f2",
   "metadata": {
    "execution": {
     "iopub.execute_input": "2025-06-29T17:21:43.424536Z",
     "iopub.status.busy": "2025-06-29T17:21:43.424338Z",
     "iopub.status.idle": "2025-06-29T17:21:43.427374Z",
     "shell.execute_reply": "2025-06-29T17:21:43.426829Z"
    },
    "papermill": {
     "duration": 0.011228,
     "end_time": "2025-06-29T17:21:43.428423",
     "exception": false,
     "start_time": "2025-06-29T17:21:43.417195",
     "status": "completed"
    },
    "tags": []
   },
   "outputs": [],
   "source": [
    "feature_list = list(final_optimal_features)"
   ]
  },
  {
   "cell_type": "code",
   "execution_count": 11,
   "id": "0e980ef8",
   "metadata": {
    "execution": {
     "iopub.execute_input": "2025-06-29T17:21:43.442503Z",
     "iopub.status.busy": "2025-06-29T17:21:43.442288Z",
     "iopub.status.idle": "2025-06-29T17:21:43.447846Z",
     "shell.execute_reply": "2025-06-29T17:21:43.447126Z"
    },
    "papermill": {
     "duration": 0.014042,
     "end_time": "2025-06-29T17:21:43.449065",
     "exception": false,
     "start_time": "2025-06-29T17:21:43.435023",
     "status": "completed"
    },
    "tags": []
   },
   "outputs": [],
   "source": [
    "\n",
    "def predict_and_save(model, df_to_predict, feature_list , output_filename, id_column='student_id'):\n",
    "    \"\"\"\n",
    "    Hàm này thực hiện dự đoán trên một tập dữ liệu, xử lý kết quả\n",
    "    và lưu ra file submission theo định dạng yêu cầu.\n",
    "\n",
    "    Args:\n",
    "        model: Mô hình đã được huấn luyện (trained model object).\n",
    "        df_to_predict (pd.DataFrame): DataFrame chứa đặc trưng của các sinh viên cần dự đoán.\n",
    "        feature_list (list): Danh sách tên các cột đặc trưng để dự đoán.\n",
    "        output_filename (str): Tên file để lưu kết quả.\n",
    "        id_column (str): Tên cột chứa ID sinh viên.\n",
    "    \"\"\"\n",
    "    print(f\"\\n--- Bắt đầu dự đoán với mô hình: {type(model).__name__} ---\")\n",
    "\n",
    "    # 1. Chuẩn bị dữ liệu đặc trưng để dự đoán\n",
    "    X_predict = df_to_predict[feature_list]\n",
    "    \n",
    "    # 2. Thực hiện dự đoán\n",
    "    print(f\"Thực hiện dự đoán trên {len(X_predict)} sinh viên...\")\n",
    "    predictions = model.predict(X_predict)\n",
    "    \n",
    "    # 3. Xử lý kết quả dự đoán (Post-processing)\n",
    "    df_result = df_to_predict[[id_column]].copy()\n",
    "    df_result['predicted_score'] = predictions\n",
    "    \n",
    "    # Kẹp điểm dự đoán trong khoảng [0, 10] để đảm bảo hợp lệ\n",
    "    df_result['predicted_score'] = df_result['predicted_score'].round(1)\n",
    "    df_result['predicted_score'] = df_result['predicted_score'].clip(0, 10)\n",
    "    \n",
    "    print(\"Đã kẹp (clip) các giá trị dự đoán trong khoảng [0, 10].\")\n",
    "    \n",
    "    # 4. In ra một vài dòng kết quả để kiểm tra\n",
    "    print(\"\\n5 dòng đầu của kết quả dự đoán:\")\n",
    "    print(df_result.head())\n",
    "\n",
    "    # 5. Lưu file submission\n",
    "    try:\n",
    "        df_result.to_csv(output_filename, index=False, header=False, float_format='%.4f')\n",
    "        print(f\"\\nThành công! Đã lưu kết quả vào file: '{output_filename}'\")\n",
    "    except Exception as e:\n",
    "        print(f\"\\nLỖI: Không thể lưu file. Lỗi: {e}\")"
   ]
  },
  {
   "cell_type": "markdown",
   "id": "7dfd53e2",
   "metadata": {
    "papermill": {
     "duration": 0.006189,
     "end_time": "2025-06-29T17:21:43.461727",
     "exception": false,
     "start_time": "2025-06-29T17:21:43.455538",
     "status": "completed"
    },
    "tags": []
   },
   "source": [
    "# **Model**"
   ]
  },
  {
   "cell_type": "markdown",
   "id": "44a73ce4",
   "metadata": {
    "papermill": {
     "duration": 0.006243,
     "end_time": "2025-06-29T17:21:43.474277",
     "exception": false,
     "start_time": "2025-06-29T17:21:43.468034",
     "status": "completed"
    },
    "tags": []
   },
   "source": [
    "## *Catboost*"
   ]
  },
  {
   "cell_type": "code",
   "execution_count": 12,
   "id": "6ddda161",
   "metadata": {
    "execution": {
     "iopub.execute_input": "2025-06-29T17:21:43.487841Z",
     "iopub.status.busy": "2025-06-29T17:21:43.487645Z",
     "iopub.status.idle": "2025-06-29T17:25:16.065515Z",
     "shell.execute_reply": "2025-06-29T17:25:16.064697Z"
    },
    "papermill": {
     "duration": 212.593847,
     "end_time": "2025-06-29T17:25:16.074419",
     "exception": false,
     "start_time": "2025-06-29T17:21:43.480572",
     "status": "completed"
    },
    "tags": []
   },
   "outputs": [
    {
     "name": "stdout",
     "output_type": "stream",
     "text": [
      "\n",
      " Định nghĩa không gian tìm kiếm siêu tham số cho CatBoost...\n",
      "\n",
      "4.3. Bắt đầu quá trình tinh chỉnh CatBoost...\n",
      "Fitting 5 folds for each of 25 candidates, totalling 125 fits\n",
      "\n",
      "      -> Tham số tốt nhất của CatBoost: {'border_count': 128, 'colsample_bylevel': 0.7238915822865458, 'depth': 5, 'iterations': 959, 'l2_leaf_reg': 8.926967238793935, 'learning_rate': 0.014042666316635762, 'random_strength': 2.9572356484912357, 'subsample': 0.6968639753109703}\n",
      "\n",
      "      -> R² tốt nhất tìm được cho CatBoost: 0.0832\n",
      "Test R² score: 0.13958308624828808\n",
      "\n",
      "4.4. Lấy mô hình CatBoost cuối cùng đã được huấn luyện...\n",
      "\n",
      "✅ Hoàn thành! Đã lấy ra mô hình `final_catboost_model` tốt nhất, sẵn sàng để dự đoán.\n"
     ]
    }
   ],
   "source": [
    "# Huấn luyện\n",
    "import catboost as cb\n",
    "from sklearn.model_selection import RandomizedSearchCV\n",
    "from scipy.stats import randint, uniform\n",
    "from sklearn.metrics import r2_score\n",
    "\n",
    "# 4.2. Định nghĩa không gian tham số cho CatBoost\n",
    "print(\"\\n Định nghĩa không gian tìm kiếm siêu tham số cho CatBoost...\")\n",
    "catboost_param_grid = {\n",
    "    'learning_rate': uniform(0.01, 0.05),\n",
    "    'iterations': randint(800, 1000),\n",
    "    'depth': randint(4, 8),\n",
    "    'l2_leaf_reg': uniform(3, 10),\n",
    "    'subsample': uniform(0.6, 0.4),\n",
    "    'colsample_bylevel': uniform(0.5, 0.5),\n",
    "    'random_strength': uniform(0, 8),\n",
    "    'border_count': [64, 128],\n",
    "}\n",
    "\n",
    "# 4.3. Khởi tạo và chạy RandomizedSearchCV\n",
    "print(\"\\n4.3. Bắt đầu quá trình tinh chỉnh CatBoost...\")\n",
    "catboost_reg = cb.CatBoostRegressor(random_state=42, silent=True)\n",
    "\n",
    "catboost_search = RandomizedSearchCV(\n",
    "    estimator=catboost_reg,\n",
    "    param_distributions=catboost_param_grid,\n",
    "    n_iter=25, # Nên tăng n_iter để tìm kiếm tốt hơn\n",
    "    scoring='r2',\n",
    "    cv=5,\n",
    "    verbose=1,\n",
    "    random_state=42,\n",
    "    n_jobs=-1\n",
    ")\n",
    "\n",
    "\n",
    "catboost_search.fit(X_train, y_train, early_stopping_rounds=50)\n",
    "\n",
    "print(f\"\\n      -> Tham số tốt nhất của CatBoost: {catboost_search.best_params_}\")\n",
    "print(f\"\\n      -> R² tốt nhất tìm được cho CatBoost: {catboost_search.best_score_:.4f}\")\n",
    "\n",
    "best_model_cb = catboost_search.best_estimator_\n",
    "y_pred = best_model_cb.predict(X_val)\n",
    "\n",
    "print(\"Test R² score:\", r2_score(y_val, y_pred))\n",
    "print(\"\\n4.4. Lấy mô hình CatBoost cuối cùng đã được huấn luyện...\")\n",
    "\n",
    "print(\"\\n✅ Hoàn thành! Đã lấy ra mô hình `final_catboost_model` tốt nhất, sẵn sàng để dự đoán.\")"
   ]
  },
  {
   "cell_type": "code",
   "execution_count": 13,
   "id": "fc38ffd2",
   "metadata": {
    "execution": {
     "iopub.execute_input": "2025-06-29T17:25:16.089905Z",
     "iopub.status.busy": "2025-06-29T17:25:16.089373Z",
     "iopub.status.idle": "2025-06-29T17:25:16.132619Z",
     "shell.execute_reply": "2025-06-29T17:25:16.131985Z"
    },
    "papermill": {
     "duration": 0.05204,
     "end_time": "2025-06-29T17:25:16.133611",
     "exception": false,
     "start_time": "2025-06-29T17:25:16.081571",
     "status": "completed"
    },
    "tags": []
   },
   "outputs": [
    {
     "name": "stdout",
     "output_type": "stream",
     "text": [
      "-> Tìm thấy 735 sinh viên cần dự đoán.\n",
      "\n",
      "--- Bắt đầu dự đoán với mô hình: CatBoostRegressor ---\n",
      "Thực hiện dự đoán trên 735 sinh viên...\n",
      "Đã kẹp (clip) các giá trị dự đoán trong khoảng [0, 10].\n",
      "\n",
      "5 dòng đầu của kết quả dự đoán:\n",
      "                                 student_id  predicted_score\n",
      "0  ed9eaeb6a707f50154024b24d7efcb874a9795dd              8.1\n",
      "1  ba12c0a2cb367af0467e479c03507c71a805d291              8.8\n",
      "3  b7298b0fe50443a623af9b56792b330c2d052845              8.7\n",
      "4  c60be70309789b39355dc612f36e37090ccad5dc              8.1\n",
      "6  a22a58c5be8aa2c2700619e37f2b7a6e4efa7e6b              9.1\n",
      "\n",
      "Thành công! Đã lưu kết quả vào file: 'catboost_predict.txt'\n"
     ]
    }
   ],
   "source": [
    "all_student_ids = df_student_features['student_id'].unique()\n",
    "students_with_scores_ids = df_target_processed['student_id'].unique()\n",
    "students_to_predict_ids = np.setdiff1d(all_student_ids, students_with_scores_ids)\n",
    "\n",
    "print(f\"-> Tìm thấy {len(students_to_predict_ids)} sinh viên cần dự đoán.\")\n",
    "\n",
    "if len(students_to_predict_ids) > 0:\n",
    "    df_predict_data = df_student_features[df_student_features['student_id'].isin(students_to_predict_ids)]\n",
    "\n",
    "    predict_and_save(\n",
    "        model=best_model_cb,\n",
    "        df_to_predict=df_predict_data,\n",
    "        feature_list=feature_list, \n",
    "        output_filename='catboost_predict.txt',\n",
    "        id_column='student_id',\n",
    "        # Thêm score_column_name nếu cần\n",
    "    )\n",
    "\n",
    "else:\n",
    "    print(\"Không có sinh viên nào cần dự đoán.\")"
   ]
  },
  {
   "cell_type": "markdown",
   "id": "b788f7f7",
   "metadata": {
    "papermill": {
     "duration": 0.006832,
     "end_time": "2025-06-29T17:25:16.147859",
     "exception": false,
     "start_time": "2025-06-29T17:25:16.141027",
     "status": "completed"
    },
    "tags": []
   },
   "source": [
    "## *LightGBM*"
   ]
  },
  {
   "cell_type": "code",
   "execution_count": 14,
   "id": "8c5886bc",
   "metadata": {
    "execution": {
     "iopub.execute_input": "2025-06-29T17:25:16.162346Z",
     "iopub.status.busy": "2025-06-29T17:25:16.161796Z",
     "iopub.status.idle": "2025-06-29T18:25:00.965000Z",
     "shell.execute_reply": "2025-06-29T18:25:00.964375Z"
    },
    "papermill": {
     "duration": 3584.821468,
     "end_time": "2025-06-29T18:25:00.975884",
     "exception": false,
     "start_time": "2025-06-29T17:25:16.154416",
     "status": "completed"
    },
    "tags": []
   },
   "outputs": [
    {
     "name": "stdout",
     "output_type": "stream",
     "text": [
      "\n",
      "5.1. Định nghĩa không gian tìm kiếm siêu tham số cho LightGBM...\n",
      "\n",
      "5.2. Bắt đầu quá trình tinh chỉnh LightGBM...\n",
      "\n",
      "      -> Tham số tốt nhất của LightGBM: {'colsample_bytree': 0.8254442364744264, 'learning_rate': 0.012820578951355013, 'max_depth': 12, 'n_estimators': 393, 'num_leaves': 21, 'subsample': 0.6727299868828402}\n",
      "\n",
      "      -> R² tốt nhất tìm được cho LightGBM: 0.0711\n",
      "Test R² score: 0.1073725193108338\n",
      "\n",
      "5.3. Lấy mô hình LightGBM cuối cùng đã được huấn luyện...\n",
      "\n",
      "✅ Hoàn thành! Đã lấy ra mô hình `final_lgbm_model` tốt nhất, sẵn sàng để dự đoán.\n"
     ]
    }
   ],
   "source": [
    "import lightgbm as lgb\n",
    "from sklearn.model_selection import RandomizedSearchCV\n",
    "from scipy.stats import randint, uniform\n",
    "from sklearn.metrics import r2_score\n",
    "\n",
    "# --- Bắt đầu phần Tinh chỉnh & Huấn luyện LightGBM ---\n",
    "print(\"\\n5.1. Định nghĩa không gian tìm kiếm siêu tham số cho LightGBM...\")\n",
    "lgbm_param_grid = {\n",
    "    'learning_rate': uniform(0.01, 0.05),      \n",
    "    'n_estimators': randint(100, 500),        \n",
    "    'num_leaves': randint(20, 60),            \n",
    "    'max_depth': randint(5, 15),               \n",
    "    'subsample': uniform(0.6, 0.4),            \n",
    "    'colsample_bytree': uniform(0.5, 0.5)            \n",
    "}\n",
    "\n",
    "# 5.2. Khởi tạo và chạy RandomizedSearchCV\n",
    "print(\"\\n5.2. Bắt đầu quá trình tinh chỉnh LightGBM...\")\n",
    "lgbm_reg = lgb.LGBMRegressor(random_state=42, n_jobs=-1, verbose=-1)\n",
    "\n",
    "# Thiết lập Randomized Search\n",
    "lgbm_search = RandomizedSearchCV(\n",
    "    estimator=lgbm_reg,\n",
    "    param_distributions=lgbm_param_grid,\n",
    "    n_iter=20, \n",
    "    scoring='r2',\n",
    "    cv=5,\n",
    "    verbose=-1,\n",
    "    random_state=42,\n",
    "    n_jobs=-1\n",
    ")\n",
    "\n",
    "\n",
    "# Huấn luyện mô hình với early stopping\n",
    "lgbm_search.fit(X_train, y_train)\n",
    "\n",
    "# In ra kết quả tốt nhất\n",
    "print(f\"\\n      -> Tham số tốt nhất của LightGBM: {lgbm_search.best_params_}\")\n",
    "print(f\"\\n      -> R² tốt nhất tìm được cho LightGBM: {lgbm_search.best_score_:.4f}\")\n",
    "\n",
    "best_model_lgbm = lgbm_search.best_estimator_\n",
    "y_pred = best_model_lgbm.predict(X_val)\n",
    "\n",
    "print(\"Test R² score:\", r2_score(y_val, y_pred))\n",
    "print(\"\\n5.3. Lấy mô hình LightGBM cuối cùng đã được huấn luyện...\")\n",
    "print(\"\\n✅ Hoàn thành! Đã lấy ra mô hình `final_lgbm_model` tốt nhất, sẵn sàng để dự đoán.\")\n"
   ]
  },
  {
   "cell_type": "code",
   "execution_count": 15,
   "id": "ece1eefa",
   "metadata": {
    "execution": {
     "iopub.execute_input": "2025-06-29T18:25:00.991677Z",
     "iopub.status.busy": "2025-06-29T18:25:00.990845Z",
     "iopub.status.idle": "2025-06-29T18:25:01.014684Z",
     "shell.execute_reply": "2025-06-29T18:25:01.013495Z"
    },
    "papermill": {
     "duration": 0.032726,
     "end_time": "2025-06-29T18:25:01.015963",
     "exception": false,
     "start_time": "2025-06-29T18:25:00.983237",
     "status": "completed"
    },
    "tags": []
   },
   "outputs": [
    {
     "name": "stdout",
     "output_type": "stream",
     "text": [
      "\n",
      "--- Bắt đầu dự đoán với mô hình: LGBMRegressor ---\n",
      "Thực hiện dự đoán trên 735 sinh viên...\n",
      "Đã kẹp (clip) các giá trị dự đoán trong khoảng [0, 10].\n",
      "\n",
      "5 dòng đầu của kết quả dự đoán:\n",
      "                                 student_id  predicted_score\n",
      "0  ed9eaeb6a707f50154024b24d7efcb874a9795dd              7.7\n",
      "1  ba12c0a2cb367af0467e479c03507c71a805d291              8.3\n",
      "3  b7298b0fe50443a623af9b56792b330c2d052845              8.7\n",
      "4  c60be70309789b39355dc612f36e37090ccad5dc              7.9\n",
      "6  a22a58c5be8aa2c2700619e37f2b7a6e4efa7e6b              9.1\n",
      "\n",
      "Thành công! Đã lưu kết quả vào file: 'lgb_predict.txt'\n"
     ]
    }
   ],
   "source": [
    "# DỰ đoán\n",
    "if len(students_to_predict_ids) > 0:\n",
    "    df_predict_data = df_student_features[df_student_features['student_id'].isin(students_to_predict_ids)]\n",
    "\n",
    "    predict_and_save(\n",
    "        model=best_model_lgbm,\n",
    "        df_to_predict=df_predict_data,\n",
    "        feature_list=feature_list, \n",
    "        output_filename='lgb_predict.txt',\n",
    "        id_column='student_id',\n",
    "        # Thêm score_column_name nếu cần\n",
    "    )\n",
    "\n",
    "else:\n",
    "    print(\"Không có sinh viên nào cần dự đoán.\")"
   ]
  },
  {
   "cell_type": "markdown",
   "id": "05741e1f",
   "metadata": {
    "papermill": {
     "duration": 0.007038,
     "end_time": "2025-06-29T18:25:01.031519",
     "exception": false,
     "start_time": "2025-06-29T18:25:01.024481",
     "status": "completed"
    },
    "tags": []
   },
   "source": [
    "# *XGBoost*"
   ]
  },
  {
   "cell_type": "code",
   "execution_count": 16,
   "id": "8b6f347f",
   "metadata": {
    "execution": {
     "iopub.execute_input": "2025-06-29T18:25:01.047607Z",
     "iopub.status.busy": "2025-06-29T18:25:01.047401Z",
     "iopub.status.idle": "2025-06-29T18:29:32.981100Z",
     "shell.execute_reply": "2025-06-29T18:29:32.980373Z"
    },
    "papermill": {
     "duration": 271.95213,
     "end_time": "2025-06-29T18:29:32.990769",
     "exception": false,
     "start_time": "2025-06-29T18:25:01.038639",
     "status": "completed"
    },
    "tags": []
   },
   "outputs": [
    {
     "name": "stdout",
     "output_type": "stream",
     "text": [
      "\n",
      "6.1. Định nghĩa không gian tìm kiếm siêu tham số cho XGBoost...\n",
      "\n",
      "6.2. Bắt đầu quá trình tinh chỉnh XGBoost...\n",
      "Fitting 5 folds for each of 20 candidates, totalling 100 fits\n"
     ]
    },
    {
     "name": "stderr",
     "output_type": "stream",
     "text": [
      "/usr/local/lib/python3.11/dist-packages/xgboost/core.py:160: UserWarning: [18:25:04] WARNING: /workspace/src/common/error_msg.cc:58: Falling back to prediction using DMatrix due to mismatched devices. This might lead to higher memory usage and slower performance. XGBoost is running on: cuda:0, while the input data is on: cpu.\n",
      "Potential solutions:\n",
      "- Use a data structure that matches the device ordinal in the booster.\n",
      "- Set the device for booster before call to inplace_predict.\n",
      "\n",
      "This warning will only be shown once.\n",
      "\n",
      "  warnings.warn(smsg, UserWarning)\n",
      "/usr/local/lib/python3.11/dist-packages/xgboost/core.py:160: UserWarning: [18:25:04] WARNING: /workspace/src/common/error_msg.cc:58: Falling back to prediction using DMatrix due to mismatched devices. This might lead to higher memory usage and slower performance. XGBoost is running on: cuda:0, while the input data is on: cpu.\n",
      "Potential solutions:\n",
      "- Use a data structure that matches the device ordinal in the booster.\n",
      "- Set the device for booster before call to inplace_predict.\n",
      "\n",
      "This warning will only be shown once.\n",
      "\n",
      "  warnings.warn(smsg, UserWarning)\n",
      "/usr/local/lib/python3.11/dist-packages/xgboost/core.py:160: UserWarning: [18:25:04] WARNING: /workspace/src/common/error_msg.cc:58: Falling back to prediction using DMatrix due to mismatched devices. This might lead to higher memory usage and slower performance. XGBoost is running on: cuda:0, while the input data is on: cpu.\n",
      "Potential solutions:\n",
      "- Use a data structure that matches the device ordinal in the booster.\n",
      "- Set the device for booster before call to inplace_predict.\n",
      "\n",
      "This warning will only be shown once.\n",
      "\n",
      "  warnings.warn(smsg, UserWarning)\n",
      "/usr/local/lib/python3.11/dist-packages/xgboost/core.py:160: UserWarning: [18:25:04] WARNING: /workspace/src/common/error_msg.cc:58: Falling back to prediction using DMatrix due to mismatched devices. This might lead to higher memory usage and slower performance. XGBoost is running on: cuda:0, while the input data is on: cpu.\n",
      "Potential solutions:\n",
      "- Use a data structure that matches the device ordinal in the booster.\n",
      "- Set the device for booster before call to inplace_predict.\n",
      "\n",
      "This warning will only be shown once.\n",
      "\n",
      "  warnings.warn(smsg, UserWarning)\n",
      "/usr/local/lib/python3.11/dist-packages/joblib/externals/loky/process_executor.py:782: UserWarning: A worker stopped while some jobs were given to the executor. This can be caused by a too short worker timeout or by a memory leak.\n",
      "  warnings.warn(\n"
     ]
    },
    {
     "name": "stdout",
     "output_type": "stream",
     "text": [
      "Fitting estimator with 40 features.\n",
      "Fitting estimator with 39 features.\n",
      "Fitting estimator with 38 features.\n",
      "Fitting estimator with 37 features.\n",
      "Fitting estimator with 36 features.\n",
      "Fitting estimator with 35 features.\n",
      "Fitting estimator with 34 features.\n",
      "Fitting estimator with 33 features.\n",
      "Fitting estimator with 32 features.\n",
      "Fitting estimator with 31 features.\n",
      "Fitting estimator with 30 features.\n",
      "Fitting estimator with 29 features.\n",
      "Fitting estimator with 28 features.\n",
      "Fitting estimator with 27 features.\n",
      "Fitting estimator with 26 features.\n",
      "Fitting estimator with 25 features.\n",
      "Fitting estimator with 24 features.\n",
      "Fitting estimator with 23 features.\n",
      "Fitting estimator with 22 features.\n",
      "Fitting estimator with 21 features.\n",
      "Fitting estimator with 20 features.\n",
      "Fitting estimator with 19 features.\n",
      "Fitting estimator with 18 features.\n",
      "Fitting estimator with 17 features.\n",
      "Fitting estimator with 16 features.\n",
      "Fitting estimator with 15 features.\n",
      "Fitting estimator with 14 features.\n",
      "Fitting estimator with 13 features.\n",
      "Fitting estimator with 12 features.\n",
      "Fitting estimator with 11 features.\n",
      "Fitting estimator with 10 features.\n",
      "Fitting estimator with 9 features.\n",
      "Fitting estimator with 8 features.\n",
      "Fitting estimator with 7 features.\n",
      "Fitting estimator with 6 features.\n",
      "Fitting estimator with 5 features.\n",
      "Fitting estimator with 4 features.\n",
      "Fitting estimator with 3 features.\n",
      "Fitting estimator with 2 features.\n",
      "Fitting estimator with 40 features.\n",
      "Fitting estimator with 39 features.\n",
      "Fitting estimator with 38 features.\n",
      "Fitting estimator with 37 features.\n",
      "Fitting estimator with 36 features.\n",
      "Fitting estimator with 35 features.\n",
      "Fitting estimator with 34 features.\n",
      "Fitting estimator with 33 features.\n",
      "Fitting estimator with 32 features.\n",
      "Fitting estimator with 31 features.\n",
      "Fitting estimator with 30 features.\n",
      "Fitting estimator with 29 features.\n",
      "Fitting estimator with 28 features.\n",
      "Fitting estimator with 27 features.\n",
      "Fitting estimator with 26 features.\n",
      "Fitting estimator with 25 features.\n",
      "Fitting estimator with 24 features.\n",
      "Fitting estimator with 23 features.\n",
      "Fitting estimator with 22 features.\n",
      "Fitting estimator with 21 features.\n",
      "Fitting estimator with 20 features.\n",
      "Fitting estimator with 19 features.\n",
      "Fitting estimator with 18 features.\n",
      "Fitting estimator with 17 features.\n",
      "Fitting estimator with 16 features.\n",
      "Fitting estimator with 15 features.\n",
      "Fitting estimator with 14 features.\n",
      "Fitting estimator with 13 features.\n",
      "Fitting estimator with 12 features.\n",
      "Fitting estimator with 11 features.\n",
      "Fitting estimator with 10 features.\n",
      "Fitting estimator with 9 features.\n",
      "Fitting estimator with 8 features.\n",
      "Fitting estimator with 7 features.\n",
      "Fitting estimator with 6 features.\n",
      "Fitting estimator with 5 features.\n",
      "Fitting estimator with 4 features.\n",
      "Fitting estimator with 3 features.\n",
      "Fitting estimator with 2 features.\n",
      "Fitting estimator with 40 features.\n",
      "Fitting estimator with 39 features.\n",
      "Fitting estimator with 38 features.\n",
      "Fitting estimator with 37 features.\n",
      "Fitting estimator with 36 features.\n",
      "Fitting estimator with 35 features.\n",
      "Fitting estimator with 34 features.\n",
      "Fitting estimator with 33 features.\n",
      "Fitting estimator with 32 features.\n",
      "Fitting estimator with 31 features.\n",
      "Fitting estimator with 30 features.\n",
      "Fitting estimator with 29 features.\n",
      "Fitting estimator with 28 features.\n",
      "Fitting estimator with 27 features.\n",
      "Fitting estimator with 26 features.\n",
      "Fitting estimator with 25 features.\n",
      "Fitting estimator with 24 features.\n",
      "Fitting estimator with 23 features.\n",
      "Fitting estimator with 22 features.\n",
      "Fitting estimator with 21 features.\n",
      "Fitting estimator with 20 features.\n",
      "Fitting estimator with 19 features.\n",
      "Fitting estimator with 18 features.\n",
      "Fitting estimator with 17 features.\n",
      "Fitting estimator with 16 features.\n",
      "Fitting estimator with 15 features.\n",
      "Fitting estimator with 14 features.\n",
      "Fitting estimator with 13 features.\n",
      "Fitting estimator with 12 features.\n",
      "Fitting estimator with 11 features.\n",
      "Fitting estimator with 10 features.\n",
      "Fitting estimator with 9 features.\n",
      "Fitting estimator with 8 features.\n",
      "Fitting estimator with 7 features.\n",
      "Fitting estimator with 6 features.\n",
      "Fitting estimator with 5 features.\n",
      "Fitting estimator with 4 features.\n",
      "Fitting estimator with 3 features.\n",
      "Fitting estimator with 2 features.\n"
     ]
    },
    {
     "name": "stderr",
     "output_type": "stream",
     "text": [
      "/usr/local/lib/python3.11/dist-packages/xgboost/core.py:160: UserWarning: [18:25:07] WARNING: /workspace/src/common/error_msg.cc:58: Falling back to prediction using DMatrix due to mismatched devices. This might lead to higher memory usage and slower performance. XGBoost is running on: cuda:0, while the input data is on: cpu.\n",
      "Potential solutions:\n",
      "- Use a data structure that matches the device ordinal in the booster.\n",
      "- Set the device for booster before call to inplace_predict.\n",
      "\n",
      "This warning will only be shown once.\n",
      "\n",
      "  warnings.warn(smsg, UserWarning)\n",
      "/usr/local/lib/python3.11/dist-packages/xgboost/core.py:160: UserWarning: [18:25:17] WARNING: /workspace/src/common/error_msg.cc:58: Falling back to prediction using DMatrix due to mismatched devices. This might lead to higher memory usage and slower performance. XGBoost is running on: cuda:0, while the input data is on: cpu.\n",
      "Potential solutions:\n",
      "- Use a data structure that matches the device ordinal in the booster.\n",
      "- Set the device for booster before call to inplace_predict.\n",
      "\n",
      "This warning will only be shown once.\n",
      "\n",
      "  warnings.warn(smsg, UserWarning)\n",
      "/usr/local/lib/python3.11/dist-packages/xgboost/core.py:160: UserWarning: [18:25:17] WARNING: /workspace/src/common/error_msg.cc:58: Falling back to prediction using DMatrix due to mismatched devices. This might lead to higher memory usage and slower performance. XGBoost is running on: cuda:0, while the input data is on: cpu.\n",
      "Potential solutions:\n",
      "- Use a data structure that matches the device ordinal in the booster.\n",
      "- Set the device for booster before call to inplace_predict.\n",
      "\n",
      "This warning will only be shown once.\n",
      "\n",
      "  warnings.warn(smsg, UserWarning)\n",
      "/usr/local/lib/python3.11/dist-packages/xgboost/core.py:160: UserWarning: [18:25:18] WARNING: /workspace/src/common/error_msg.cc:58: Falling back to prediction using DMatrix due to mismatched devices. This might lead to higher memory usage and slower performance. XGBoost is running on: cuda:0, while the input data is on: cpu.\n",
      "Potential solutions:\n",
      "- Use a data structure that matches the device ordinal in the booster.\n",
      "- Set the device for booster before call to inplace_predict.\n",
      "\n",
      "This warning will only be shown once.\n",
      "\n",
      "  warnings.warn(smsg, UserWarning)\n"
     ]
    },
    {
     "name": "stdout",
     "output_type": "stream",
     "text": [
      "\n",
      "      -> Tham số tốt nhất của XGBoost: {'colsample_bytree': 0.8058265802441404, 'learning_rate': 0.01035331526098587, 'max_depth': 3, 'n_estimators': 660, 'subsample': 0.8099098641033556}\n",
      "\n",
      "      -> R² tốt nhất tìm được cho XGBoost: 0.0587\n",
      "\n",
      "6.3. Lấy mô hình XGBoost cuối cùng đã được huấn luyện...\n",
      "Test R² score: 0.10802316141669355\n",
      "\n",
      "✅ Hoàn thành! Đã lấy ra mô hình `final_xgb_model` tốt nhất, sẵn sàng để dự đoán.\n"
     ]
    },
    {
     "name": "stderr",
     "output_type": "stream",
     "text": [
      "/usr/local/lib/python3.11/dist-packages/xgboost/core.py:160: UserWarning: [18:29:32] WARNING: /workspace/src/common/error_msg.cc:58: Falling back to prediction using DMatrix due to mismatched devices. This might lead to higher memory usage and slower performance. XGBoost is running on: cuda:0, while the input data is on: cpu.\n",
      "Potential solutions:\n",
      "- Use a data structure that matches the device ordinal in the booster.\n",
      "- Set the device for booster before call to inplace_predict.\n",
      "\n",
      "This warning will only be shown once.\n",
      "\n",
      "  warnings.warn(smsg, UserWarning)\n"
     ]
    }
   ],
   "source": [
    "# Tinh chỉnh và huấn luyện\n",
    "# Cần các thư viện này\n",
    "import xgboost as xgb\n",
    "from sklearn.model_selection import RandomizedSearchCV\n",
    "from scipy.stats import randint, uniform\n",
    "\n",
    "# --- Bắt đầu phần Tinh chỉnh & Huấn luyện XGBoost ---\n",
    "\n",
    "# 6.1. Định nghĩa không gian tìm kiếm siêu tham số cho XGBoost\n",
    "print(\"\\n6.1. Định nghĩa không gian tìm kiếm siêu tham số cho XGBoost...\")\n",
    "xgb_param_grid = {\n",
    "    'learning_rate': uniform(0.01, 0.05),    \n",
    "    'n_estimators': randint(100, 1000),        \n",
    "    'max_depth': randint(3, 10),               \n",
    "    'subsample': uniform(0.6, 0.4),           \n",
    "    'colsample_bytree': uniform(0.5, 0.5),           \n",
    "}\n",
    "\n",
    "# 6.2. Khởi tạo và chạy RandomizedSearchCV\n",
    "print(\"\\n6.2. Bắt đầu quá trình tinh chỉnh XGBoost...\")\n",
    "# objective='reg:squarederror' là mục tiêu cho bài toán hồi quy\n",
    "xgb_reg = xgb.XGBRegressor(objective='reg:squarederror', random_state=42, n_jobs=-1, tree_method = \"hist\", device = \"cuda\")\n",
    "\n",
    "# Thiết lập Randomized Search\n",
    "xgb_search = RandomizedSearchCV(\n",
    "    estimator=xgb_reg,\n",
    "    param_distributions=xgb_param_grid,\n",
    "    n_iter=20,  # Số lần thử kết hợp tham số\n",
    "    scoring='r2',\n",
    "    cv=5,\n",
    "    verbose=1,\n",
    "    random_state=42,\n",
    "    n_jobs=-1\n",
    ")\n",
    "\n",
    "# Bắt đầu quá trình tìm kiếm trên tập huấn luyện (X_train, y_train)\n",
    "# Giả định X_train, y_train đã tồn tại từ trước\n",
    "xgb_search.fit(X_train, y_train)\n",
    "\n",
    "# In ra kết quả tốt nhất\n",
    "print(f\"\\n      -> Tham số tốt nhất của XGBoost: {xgb_search.best_params_}\")\n",
    "print(f\"\\n      -> R² tốt nhất tìm được cho XGBoost: {xgb_search.best_score_:.4f}\")\n",
    "\n",
    "\n",
    "# 6.3. Lấy mô hình XGBoost tốt nhất đã được huấn luyện sẵn\n",
    "print(\"\\n6.3. Lấy mô hình XGBoost cuối cùng đã được huấn luyện...\")\n",
    "\n",
    "# Không cần huấn luyện lại!\n",
    "best_model_xgb = xgb_search.best_estimator_\n",
    "y_pred = best_model_xgb.predict(X_val)\n",
    "\n",
    "print(\"Test R² score:\", r2_score(y_val, y_pred))\n",
    "\n",
    "print(\"\\n✅ Hoàn thành! Đã lấy ra mô hình `final_xgb_model` tốt nhất, sẵn sàng để dự đoán.\")"
   ]
  },
  {
   "cell_type": "code",
   "execution_count": 17,
   "id": "f5964293",
   "metadata": {
    "execution": {
     "iopub.execute_input": "2025-06-29T18:29:33.007621Z",
     "iopub.status.busy": "2025-06-29T18:29:33.007402Z",
     "iopub.status.idle": "2025-06-29T18:29:33.029157Z",
     "shell.execute_reply": "2025-06-29T18:29:33.028066Z"
    },
    "papermill": {
     "duration": 0.031519,
     "end_time": "2025-06-29T18:29:33.030235",
     "exception": false,
     "start_time": "2025-06-29T18:29:32.998716",
     "status": "completed"
    },
    "tags": []
   },
   "outputs": [
    {
     "name": "stdout",
     "output_type": "stream",
     "text": [
      "\n",
      "--- Bắt đầu dự đoán với mô hình: XGBRegressor ---\n",
      "Thực hiện dự đoán trên 735 sinh viên...\n",
      "Đã kẹp (clip) các giá trị dự đoán trong khoảng [0, 10].\n",
      "\n",
      "5 dòng đầu của kết quả dự đoán:\n",
      "                                 student_id  predicted_score\n",
      "0  ed9eaeb6a707f50154024b24d7efcb874a9795dd              7.9\n",
      "1  ba12c0a2cb367af0467e479c03507c71a805d291              8.6\n",
      "3  b7298b0fe50443a623af9b56792b330c2d052845              8.7\n",
      "4  c60be70309789b39355dc612f36e37090ccad5dc              8.2\n",
      "6  a22a58c5be8aa2c2700619e37f2b7a6e4efa7e6b              9.0\n",
      "\n",
      "Thành công! Đã lưu kết quả vào file: 'xgb_predict.txt'\n"
     ]
    }
   ],
   "source": [
    "# #Dự đoán\n",
    "if len(students_to_predict_ids) > 0:\n",
    "    df_predict_data = df_student_features[df_student_features['student_id'].isin(students_to_predict_ids)]\n",
    "\n",
    "    predict_and_save(\n",
    "        model=best_model_xgb,\n",
    "        df_to_predict=df_predict_data,\n",
    "        feature_list=feature_list, \n",
    "        output_filename='xgb_predict.txt',\n",
    "        id_column='student_id',\n",
    "        # Thêm score_column_name nếu cần\n",
    "    )\n",
    "\n",
    "else:\n",
    "    print(\"Không có sinh viên nào cần dự đoán.\")"
   ]
  },
  {
   "cell_type": "markdown",
   "id": "be308fa3",
   "metadata": {
    "papermill": {
     "duration": 0.007377,
     "end_time": "2025-06-29T18:29:33.045356",
     "exception": false,
     "start_time": "2025-06-29T18:29:33.037979",
     "status": "completed"
    },
    "tags": []
   },
   "source": [
    "# *Ridge*"
   ]
  },
  {
   "cell_type": "code",
   "execution_count": 18,
   "id": "a892ba86",
   "metadata": {
    "execution": {
     "iopub.execute_input": "2025-06-29T18:29:33.061205Z",
     "iopub.status.busy": "2025-06-29T18:29:33.060817Z",
     "iopub.status.idle": "2025-06-29T18:29:33.370334Z",
     "shell.execute_reply": "2025-06-29T18:29:33.369686Z"
    },
    "papermill": {
     "duration": 0.318764,
     "end_time": "2025-06-29T18:29:33.371510",
     "exception": false,
     "start_time": "2025-06-29T18:29:33.052746",
     "status": "completed"
    },
    "tags": []
   },
   "outputs": [
    {
     "name": "stdout",
     "output_type": "stream",
     "text": [
      "\n",
      "8.1. Định nghĩa không gian tìm kiếm siêu tham số cho Ridge...\n",
      "\n",
      "8.2. Bắt đầu quá trình tinh chỉnh Ridge...\n",
      "Fitting 5 folds for each of 25 candidates, totalling 125 fits\n",
      "\n",
      "      -> Tham số tốt nhất của Ridge: {'alpha': 0.5415244119402537}\n",
      "\n",
      "      -> R² tốt nhất tìm được cho Ridge: 0.0559\n",
      "\n",
      "8.3. Lấy mô hình Ridge cuối cùng đã được huấn luyện...\n",
      "Test R² score: 0.031779626386135185\n",
      "\n",
      "✅ Hoàn thành! Đã lấy ra mô hình `final_ridge_model` tốt nhất, sẵn sàng để dự đoán.\n"
     ]
    }
   ],
   "source": [
    "from sklearn.linear_model import Ridge\n",
    "from scipy.stats import loguniform\n",
    "\n",
    "print(\"\\n8.1. Định nghĩa không gian tìm kiếm siêu tham số cho Ridge...\")\n",
    "ridge_param_grid = {\n",
    "    'alpha': loguniform(1e-1, 1e3) \n",
    "}\n",
    "\n",
    "# 8.2. Khởi tạo và chạy RandomizedSearchCV\n",
    "print(\"\\n8.2. Bắt đầu quá trình tinh chỉnh Ridge...\")\n",
    "ridge_model = Ridge()\n",
    "\n",
    "ridge_search = RandomizedSearchCV(\n",
    "    estimator=ridge_model,\n",
    "    param_distributions=ridge_param_grid,\n",
    "    n_iter=25,  \n",
    "    scoring='r2',\n",
    "    cv=5,\n",
    "    verbose=1,\n",
    "    random_state=42,\n",
    "    n_jobs=-1\n",
    ")\n",
    "\n",
    "# Bắt đầu tìm kiếm\n",
    "ridge_search.fit(X_train, y_train)\n",
    "\n",
    "# In ra kết quả tốt nhất\n",
    "print(f\"\\n      -> Tham số tốt nhất của Ridge: {ridge_search.best_params_}\")\n",
    "print(f\"\\n      -> R² tốt nhất tìm được cho Ridge: {ridge_search.best_score_:.4f}\")\n",
    "\n",
    "# 8.3. Lấy mô hình Ridge tốt nhất đã được huấn luyện sẵn\n",
    "print(\"\\n8.3. Lấy mô hình Ridge cuối cùng đã được huấn luyện...\")\n",
    "best_model_ridge = ridge_search.best_estimator_\n",
    "y_pred = best_model_ridge.predict(X_val)\n",
    "\n",
    "print(\"Test R² score:\", r2_score(y_val, y_pred))\n",
    "\n",
    "print(\"\\n✅ Hoàn thành! Đã lấy ra mô hình `final_ridge_model` tốt nhất, sẵn sàng để dự đoán.\")"
   ]
  },
  {
   "cell_type": "code",
   "execution_count": 19,
   "id": "d1b38d70",
   "metadata": {
    "execution": {
     "iopub.execute_input": "2025-06-29T18:29:33.390679Z",
     "iopub.status.busy": "2025-06-29T18:29:33.390458Z",
     "iopub.status.idle": "2025-06-29T18:29:33.408595Z",
     "shell.execute_reply": "2025-06-29T18:29:33.407882Z"
    },
    "papermill": {
     "duration": 0.028583,
     "end_time": "2025-06-29T18:29:33.409794",
     "exception": false,
     "start_time": "2025-06-29T18:29:33.381211",
     "status": "completed"
    },
    "tags": []
   },
   "outputs": [
    {
     "name": "stdout",
     "output_type": "stream",
     "text": [
      "\n",
      "--- Bắt đầu dự đoán với mô hình: Ridge ---\n",
      "Thực hiện dự đoán trên 735 sinh viên...\n",
      "Đã kẹp (clip) các giá trị dự đoán trong khoảng [0, 10].\n",
      "\n",
      "5 dòng đầu của kết quả dự đoán:\n",
      "                                 student_id  predicted_score\n",
      "0  ed9eaeb6a707f50154024b24d7efcb874a9795dd              7.7\n",
      "1  ba12c0a2cb367af0467e479c03507c71a805d291              9.3\n",
      "3  b7298b0fe50443a623af9b56792b330c2d052845              8.8\n",
      "4  c60be70309789b39355dc612f36e37090ccad5dc              8.3\n",
      "6  a22a58c5be8aa2c2700619e37f2b7a6e4efa7e6b              8.6\n",
      "\n",
      "Thành công! Đã lưu kết quả vào file: 'ridge_predict.txt'\n"
     ]
    }
   ],
   "source": [
    "# # Dự đoán\n",
    "if len(students_to_predict_ids) > 0:\n",
    "    df_predict_data = df_student_features[df_student_features['student_id'].isin(students_to_predict_ids)]\n",
    "\n",
    "    predict_and_save(\n",
    "        model=best_model_ridge,\n",
    "        df_to_predict=df_predict_data,\n",
    "        feature_list=feature_list, \n",
    "        output_filename='ridge_predict.txt',\n",
    "        id_column='student_id',\n",
    "        # Thêm score_column_name nếu cần\n",
    "    )\n",
    "\n",
    "else:\n",
    "    print(\"Không có sinh viên nào cần dự đoán.\")"
   ]
  }
 ],
 "metadata": {
  "kaggle": {
   "accelerator": "nvidiaTeslaT4",
   "dataSources": [
    {
     "datasetId": 7749263,
     "sourceId": 12295019,
     "sourceType": "datasetVersion"
    },
    {
     "datasetId": 7761029,
     "sourceId": 12312944,
     "sourceType": "datasetVersion"
    }
   ],
   "dockerImageVersionId": 31040,
   "isGpuEnabled": true,
   "isInternetEnabled": true,
   "language": "python",
   "sourceType": "notebook"
  },
  "kernelspec": {
   "display_name": "Python 3",
   "language": "python",
   "name": "python3"
  },
  "language_info": {
   "codemirror_mode": {
    "name": "ipython",
    "version": 3
   },
   "file_extension": ".py",
   "mimetype": "text/x-python",
   "name": "python",
   "nbconvert_exporter": "python",
   "pygments_lexer": "ipython3",
   "version": "3.11.11"
  },
  "papermill": {
   "default_parameters": {},
   "duration": 4279.607576,
   "end_time": "2025-06-29T18:29:36.038372",
   "environment_variables": {},
   "exception": null,
   "input_path": "__notebook__.ipynb",
   "output_path": "__notebook__.ipynb",
   "parameters": {},
   "start_time": "2025-06-29T17:18:16.430796",
   "version": "2.6.0"
  }
 },
 "nbformat": 4,
 "nbformat_minor": 5
}
